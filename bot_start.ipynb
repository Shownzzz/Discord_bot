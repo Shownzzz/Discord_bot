{
 "cells": [
  {
   "cell_type": "code",
   "execution_count": 3,
   "metadata": {},
   "outputs": [
    {
     "name": "stderr",
     "output_type": "stream",
     "text": [
      "[2023-11-13 02:28:19] [INFO    ] discord.client: logging in using static token\n",
      "[2023-11-13 02:28:19] [INFO    ] discord.client: logging in using static token\n",
      "[2023-11-13 02:28:19] [INFO    ] discord.client: logging in using static token\n",
      "[2023-11-13 02:28:21] [INFO    ] discord.gateway: Shard ID None has connected to Gateway (Session ID: e0b7bdb846f3428a3aeef9b5b8bfbe19).\n",
      "[2023-11-13 02:28:21] [INFO    ] discord.gateway: Shard ID None has connected to Gateway (Session ID: e0b7bdb846f3428a3aeef9b5b8bfbe19).\n",
      "[2023-11-13 02:28:21] [INFO    ] discord.gateway: Shard ID None has connected to Gateway (Session ID: e0b7bdb846f3428a3aeef9b5b8bfbe19).\n"
     ]
    },
    {
     "name": "stdout",
     "output_type": "stream",
     "text": [
      "目前登入身份： TEST_BOT#3899\n"
     ]
    }
   ],
   "source": [
    "#導入 Discord.py\n",
    "import discord\n",
    "import nest_asyncio\n",
    "\n",
    "nest_asyncio.apply()\n",
    "#client 是我們與 Discord 連結的橋樑，intents 是我們要求的權限\n",
    "intents = discord.Intents.default()\n",
    "intents.message_content = True\n",
    "client = discord.Client(intents=intents)\n",
    "\n",
    "#調用 event 函式庫\n",
    "@client.event\n",
    "#當機器人完成啟動時\n",
    "async def on_ready():\n",
    "    print('目前登入身份：', client.user)\n",
    "\n",
    "@client.event\n",
    "#當有訊息時\n",
    "async def on_message(message):\n",
    "    #排除自己的訊息，避免陷入無限循環\n",
    "    if message.author == client.user:\n",
    "        return\n",
    "    #如果包含 ping，機器人回傳 pong\n",
    "    if message.content == 'ping':\n",
    "        await message.channel.send('pong')\n",
    "\n",
    "client.run('MTE3Mjk5NDY4NDQwNzI2MzIzMg.Gj-_sU.KjCsSLwiPF4ZW0SRZEJic27HaD7ecAorywMm08') #TOKEN 在剛剛 Discord Developer 那邊「BOT」頁面裡面"
   ]
  }
 ],
 "metadata": {
  "kernelspec": {
   "display_name": "HMM_ECG",
   "language": "python",
   "name": "python3"
  },
  "language_info": {
   "codemirror_mode": {
    "name": "ipython",
    "version": 3
   },
   "file_extension": ".py",
   "mimetype": "text/x-python",
   "name": "python",
   "nbconvert_exporter": "python",
   "pygments_lexer": "ipython3",
   "version": "3.10.13"
  }
 },
 "nbformat": 4,
 "nbformat_minor": 2
}
