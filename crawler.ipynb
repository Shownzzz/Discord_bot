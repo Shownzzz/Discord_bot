{
 "cells": [
  {
   "cell_type": "code",
   "execution_count": 12,
   "metadata": {},
   "outputs": [
    {
     "name": "stderr",
     "output_type": "stream",
     "text": [
      "C:\\Users\\User\\AppData\\Local\\Temp\\ipykernel_12016\\1929562630.py:16: DeprecationWarning: executable_path has been deprecated, please pass in a Service object\n",
      "  driver = webdriver.Chrome(options=options,executable_path=chrome_driver_path)\n"
     ]
    },
    {
     "data": {
      "text/plain": [
       "'\\nurl = \\'https://www.youtube.com/\\'\\ndata = {\\n    \"is_check\": \"1\"\\n}\\n\\ntry:\\n    response = requests.post(url, data = data)\\n    if response.status_code == 200:\\n        soup = BeautifulSoup(response.text, \\'html.parser\\')\\n        # 使用select方法選擇所需的元素\\n        select_name = soup.select(\\'[class=\"anime-name-block\"]\\')\\n        # 輸出抓取到的內容\\n        print(\"動漫名稱為: \",select_name.text.strip())\\n    else:\\n        print(\"POST請求失敗，狀態碼：\", response.status_code)\\nexcept:\\n    #pass\\n    print(f\\'沒有這檔股票: {i}\\')\\ntime.sleep(2)\\n'"
      ]
     },
     "execution_count": 12,
     "metadata": {},
     "output_type": "execute_result"
    }
   ],
   "source": [
    "from selenium import webdriver\n",
    "from selenium.webdriver.common.keys import Keys\n",
    "from selenium.webdriver.common.by import By\n",
    "from selenium.webdriver.chrome.options import Options\n",
    "import time\n",
    "import requests\n",
    "from bs4 import BeautifulSoup\n",
    "import pandas as pd\n",
    "\n",
    "options = webdriver.ChromeOptions()\n",
    "#options.add_argument(\"Mozilla/5.0 (Windows NT 10.0; Win64; x64) AppleWebKit/537.36 (KHTML, like Gecko) Chrome/119.0.0.0 Safari/537.36\")\n",
    "chrome_driver_path = 'C:/Users/User/OneDrive/桌面/Discord_bot/chromedriver-win64/chromedriver.exe'\n",
    "options.add_experimental_option(\"excludeSwitches\", [\"enable-automation\"])\n",
    "options.add_experimental_option('useAutomationExtension', False)\n",
    "options.add_argument('--disable-blink-features=AutomationControlled')\n",
    "driver = webdriver.Chrome(options=options,executable_path=chrome_driver_path)\n",
    "\n",
    "driver.get('https://accounts.google.com/servicelogin')\n",
    "email_input = driver.find_element(By.ID,\"identifierId\")\n",
    "email_input.send_keys(\"qq14525457@gmail.com\")\n",
    "next_btn = driver.find_element(By.ID,\"identifierNext\")\n",
    "next_btn.click()\n",
    "time.sleep(5)\n",
    "\n",
    "password_input = driver.find_element(By.NAME,\"Passwd\")\n",
    "password_input.send_keys(\"qq124520021\")\n",
    "next_btn = driver.find_element(By.ID,\"passwordNext\")\n",
    "next_btn.click()\n",
    "\n",
    "time.sleep(10)\n",
    "\n",
    "driver.quit()\n",
    "'''\n",
    "url = 'https://www.youtube.com/'\n",
    "data = {\n",
    "    \"is_check\": \"1\"\n",
    "}\n",
    "\n",
    "try:\n",
    "    response = requests.post(url, data = data)\n",
    "    if response.status_code == 200:\n",
    "        soup = BeautifulSoup(response.text, 'html.parser')\n",
    "        # 使用select方法選擇所需的元素\n",
    "        select_name = soup.select('[class=\"anime-name-block\"]')\n",
    "        # 輸出抓取到的內容\n",
    "        print(\"動漫名稱為: \",select_name.text.strip())\n",
    "    else:\n",
    "        print(\"POST請求失敗，狀態碼：\", response.status_code)\n",
    "except:\n",
    "    #pass\n",
    "    print(f'沒有這檔股票: {i}')\n",
    "time.sleep(2)\n",
    "'''\n"
   ]
  }
 ],
 "metadata": {
  "kernelspec": {
   "display_name": "HMM_ECG",
   "language": "python",
   "name": "python3"
  },
  "language_info": {
   "codemirror_mode": {
    "name": "ipython",
    "version": 3
   },
   "file_extension": ".py",
   "mimetype": "text/x-python",
   "name": "python",
   "nbconvert_exporter": "python",
   "pygments_lexer": "ipython3",
   "version": "3.10.13"
  }
 },
 "nbformat": 4,
 "nbformat_minor": 2
}
